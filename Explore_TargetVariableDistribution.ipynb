{
 "cells": [
  {
   "cell_type": "markdown",
   "metadata": {},
   "source": [
    "Exploring features for the multiple linear regression and random forests model for generating the recommendation/ratings system based on yelp reviews, user and business data. These models are built for specific cities spread across four different states. The four cities are Charlotte (NC), Las Vegas (NV), Phoenix (AZ), Pittsburgh (PA).\n",
    "\n",
    "#Business data (interested features): spatial location (latitude/longitude), demographic (zip code/population density), review_count (weighted), cuisine type? (not sure), household income index? (not sure, if have time)\n",
    "\n",
    "#User data (interested features):  average_stars, elite, fans, friends, gender, review_count(weighted)\n",
    "\n",
    "#Review data (interested features): date, sentimental value(text input to NLTK, http://text-processing.com/demo/sentiment/), polarity, \n",
    "\n",
    "#Tip data (interested features):  date, sentimental value(text), polarity\n",
    "\n",
    "Business based features\n",
    "\n",
    "Feature#1 (Spatial location: latitude/longitude): Latitude/longitude values are given for each restaurant which would give us the spatial location within each city.\n",
    "\n",
    "Feature#2 (zip code): In addition to the latitude/longitude values, zip codes are also provided as part of the address. We can see if there is any dependency of the target variable (rating) on the zip codes.\n",
    "\n",
    "Feature#3 Population density (based on zip code): Population density is obtained from other data sources which shows the population within the zip code area.\n",
    "\n",
    "Feature#4 review_count: Each restaurant has certain number of reviews within the yelp data. Number of reviews (review_count) shows how active and appealing a particular restaurant is to its customers.\n",
    "\n",
    "User based features\n",
    "\n",
    "Feature#5 gender: Gender is derived from a python library based on the name (https://pypi.python.org/pypi/SexMachine). We can see if there are any gender based differences in the reviews and the target variable (star rating) within each city.\n",
    "\n",
    "Feature#6 user network index: this is derived from the user's active social participation in yelping using the values (fans and friends).\n",
    "\n",
    "Feature#7: #years of user's elite status: Within the user's data, there is a field called 'elite' which shows the user's participation as an elite in each year.\n",
    "\n",
    "Feature#8: average_stars (weighted): weight by quality of review.\n",
    "\n",
    "Reviews based features: \n",
    "\n",
    "Feature#9: temporal index: Date is given for each review and we can derive a temporal index by looking into the #reviews within each time period. bin based on day/week, distribution analysis (for example skewness, lookinto ~10 restaurants). variability, \n",
    "\n",
    "Feature#10: sentimental value(text input to NLTK)\n",
    "\n",
    "Feature#11: polarity (from NLTK)\n",
    "\n",
    "Tip based features\n",
    "\n",
    "Feature#12: temporal index: Date is given for each review and we can derive a temporal index by looking into the #reviews within each time period. \n",
    "\n",
    "Feature#13: sentimental value(text input to NLTK)\n",
    "\n",
    "Feature#14: polarity (from NLTK)\n",
    "\n"
   ]
  },
  {
   "cell_type": "code",
   "execution_count": 1,
   "metadata": {
    "collapsed": true
   },
   "outputs": [],
   "source": [
    "import pandas as pd\n",
    "import json\n",
    "from pandas.io.json import json_normalize\n",
    "import numpy as np\n",
    "%matplotlib inline\n",
    "import matplotlib\n",
    "import matplotlib.pyplot as plt"
   ]
  },
  {
   "cell_type": "code",
   "execution_count": 55,
   "metadata": {
    "collapsed": false
   },
   "outputs": [
    {
     "name": "stdout",
     "output_type": "stream",
     "text": [
      "percent  star_count  stars\n",
      " 0.848356          16    1.0\n",
      " 1.855779          35    1.5\n",
      " 4.135737          78    2.0\n",
      "10.392365         196    2.5\n",
      "19.247084         363    3.0\n",
      "28.738070         542    3.5\n",
      "25.450689         480    4.0\n",
      " 8.006363         151    4.5\n",
      " 1.325557          25    5.0\n",
      "percent  star_count  stars\n",
      " 0.450837          21    1.0\n",
      " 1.953628          91    1.5\n",
      " 4.937742         230    2.0\n",
      "11.077716         516    2.5\n",
      "18.033491         840    3.0\n",
      "27.608416        1286    3.5\n",
      "23.872907        1112    4.0\n",
      "10.412194         485    4.5\n",
      " 1.653070          77    5.0\n",
      "percent  star_count  stars\n",
      " 0.513347          15    1.0\n",
      " 1.813826          53    1.5\n",
      " 5.201916         152    2.0\n",
      "10.677618         312    2.5\n",
      "18.035592         527    3.0\n",
      "25.222450         737    3.5\n",
      "25.427789         743    4.0\n",
      "11.362081         332    4.5\n",
      " 1.745380          51    5.0\n",
      "percent  star_count  stars\n",
      " 0.071378           1    1.0\n",
      " 1.213419          17    1.5\n",
      " 2.855103          40    2.0\n",
      " 9.421842         132    2.5\n",
      "16.059957         225    3.0\n",
      "28.408280         398    3.5\n",
      "27.123483         380    4.0\n",
      "12.419700         174    4.5\n",
      " 2.426838          34    5.0\n"
     ]
    }
   ],
   "source": [
    "def get_starcount_df(rest_df):\n",
    "    ratings_df = rest_df.groupby('stars')\n",
    "    star_count = ratings_df.count().name\n",
    "    percent = []\n",
    "    for star_entry in star_count:\n",
    "        percent.append((float(star_entry)/float(star_count.sum()))*100)\n",
    "    star_count_df = pd.DataFrame({'stars': star_count.index,\n",
    "                                'star_count': star_count.values,\n",
    "                                 'percent': percent})\n",
    "    \n",
    "    print(star_count_df.to_string(index=False))\n",
    "    return star_count_df\n",
    "\n",
    "\n",
    "rest_df = pd.read_json('data_full/Charlotte_Restaurants.json')\n",
    "test = get_starcount_df(rest_df)\n",
    "\n",
    "rest_df = pd.read_json('data_full/LasVegas_Restaurants.json')\n",
    "test = get_starcount_df(rest_df)\n",
    "\n",
    "rest_df = pd.read_json('data_full/Phoenix_Restaurants.json')\n",
    "test = get_starcount_df(rest_df)\n",
    "\n",
    "rest_df = pd.read_json('data_full/Pittsburgh_Restaurants.json')\n",
    "test = get_starcount_df(rest_df)\n",
    "\n",
    "#plt.hist(rest_df['stars'])\n",
    "#plt.xlabel('star rating')\n",
    "#plt.title('rating distribution for Phoenix')"
   ]
  },
  {
   "cell_type": "code",
   "execution_count": 5,
   "metadata": {
    "collapsed": false
   },
   "outputs": [
    {
     "data": {
      "text/plain": [
       "<matplotlib.text.Text at 0x7f681d2ab828>"
      ]
     },
     "execution_count": 5,
     "metadata": {},
     "output_type": "execute_result"
    },
    {
     "data": {
      "image/png": "[encoded data removed]",
      "text/plain": [
       "<matplotlib.figure.Figure at 0x7f681d6e8470>"
      ]
     },
     "metadata": {},
     "output_type": "display_data"
    }
   ],
   "source": [
    "rest_df = pd.read_json('data_full/Charlotte_Restaurants.json')\n",
    "plt.hist(rest_df['stars'])\n",
    "plt.xlabel('star rating')\n",
    "plt.title('rating distribution for Charlotte')"
   ]
  },
  {
   "cell_type": "code",
   "execution_count": 6,
   "metadata": {
    "collapsed": false
   },
   "outputs": [
    {
     "data": {
      "text/plain": [
       "<matplotlib.text.Text at 0x7f681d1d98d0>"
      ]
     },
     "execution_count": 6,
     "metadata": {},
     "output_type": "execute_result"
    },
    {
     "data": {
      "image/png": "[encoded data removed]",
      "text/plain": [
       "<matplotlib.figure.Figure at 0x7f681d1ef710>"
      ]
     },
     "metadata": {},
     "output_type": "display_data"
    }
   ],
   "source": [
    "rest_df = pd.read_json('data_full/LasVegas_Restaurants.json')\n",
    "plt.hist(rest_df['stars'])\n",
    "plt.xlabel('star rating')\n",
    "plt.title('rating distribution for Las Vegas')"
   ]
  },
  {
   "cell_type": "code",
   "execution_count": 54,
   "metadata": {
    "collapsed": false
   },
   "outputs": [
    {
     "name": "stdout",
     "output_type": "stream",
     "text": [
      "percent  star_count  stars\n",
      " 0.071378           1    1.0\n",
      " 1.213419          17    1.5\n",
      " 2.855103          40    2.0\n",
      " 9.421842         132    2.5\n",
      "16.059957         225    3.0\n",
      "28.408280         398    3.5\n",
      "27.123483         380    4.0\n",
      "12.419700         174    4.5\n",
      " 2.426838          34    5.0\n"
     ]
    },
    {
     "data": {
      "text/plain": [
       "<matplotlib.text.Text at 0x7f6819a39b38>"
      ]
     },
     "execution_count": 54,
     "metadata": {},
     "output_type": "execute_result"
    },
    {
     "data": {
      "image/png": "[encoded data removed]",
      "text/plain": [
       "<matplotlib.figure.Figure at 0x7f6819bed9e8>"
      ]
     },
     "metadata": {},
     "output_type": "display_data"
    }
   ],
   "source": [
    "rest_df = pd.read_json('data_full/Pittsburgh_Restaurants.json')\n",
    "ratings_df = rest_df.groupby('stars')\n",
    "\n",
    "star_count = ratings_df.count().name\n",
    "#print(star_count.sum())\n",
    "#print(ratings_df.count())\n",
    "#print(star_count.index)\n",
    "\n",
    "\n",
    "test = get_starcount_df(star_count)\n",
    "\n",
    "#print(star_count)\n",
    "plt.hist(rest_df['stars'])\n",
    "plt.xlabel('star rating')\n",
    "plt.title('rating distribution for Pittsburgh')"
   ]
  },
  {
   "cell_type": "code",
   "execution_count": 9,
   "metadata": {
    "collapsed": false,
    "scrolled": true
   },
   "outputs": [
    {
     "ename": "ValueError",
     "evalue": "Expected object or value",
     "output_type": "error",
     "traceback": [
      "\u001b[1;31m---------------------------------------------------------------------------\u001b[0m",
      "\u001b[1;31mValueError\u001b[0m                                Traceback (most recent call last)",
      "\u001b[1;32m<ipython-input-9-626483320ed5>\u001b[0m in \u001b[0;36m<module>\u001b[1;34m()\u001b[0m\n\u001b[1;32m----> 1\u001b[1;33m \u001b[0muser_df\u001b[0m \u001b[1;33m=\u001b[0m \u001b[0mpd\u001b[0m\u001b[1;33m.\u001b[0m\u001b[0mread_json\u001b[0m\u001b[1;33m(\u001b[0m\u001b[1;34m'data/Phoenix_UserData.json'\u001b[0m\u001b[1;33m)\u001b[0m\u001b[1;33m\u001b[0m\u001b[0m\n\u001b[0m\u001b[0;32m      2\u001b[0m \u001b[0mprint\u001b[0m\u001b[1;33m(\u001b[0m\u001b[0mlen\u001b[0m\u001b[1;33m(\u001b[0m\u001b[0muser_df\u001b[0m\u001b[1;33m)\u001b[0m\u001b[1;33m)\u001b[0m\u001b[1;33m\u001b[0m\u001b[0m\n\u001b[0;32m      3\u001b[0m \u001b[0muser_df\u001b[0m\u001b[1;33m.\u001b[0m\u001b[0minfo\u001b[0m\u001b[1;33m(\u001b[0m\u001b[1;33m)\u001b[0m\u001b[1;33m\u001b[0m\u001b[0m\n\u001b[0;32m      4\u001b[0m \u001b[0muser_df\u001b[0m\u001b[1;33m.\u001b[0m\u001b[0mhead\u001b[0m\u001b[1;33m(\u001b[0m\u001b[1;36m10\u001b[0m\u001b[1;33m)\u001b[0m\u001b[1;33m\u001b[0m\u001b[0m\n",
      "\u001b[1;32m/home/roopireddy/anaconda3/lib/python3.5/site-packages/pandas/io/json.py\u001b[0m in \u001b[0;36mread_json\u001b[1;34m(path_or_buf, orient, typ, dtype, convert_axes, convert_dates, keep_default_dates, numpy, precise_float, date_unit)\u001b[0m\n\u001b[0;32m    209\u001b[0m         obj = FrameParser(json, orient, dtype, convert_axes, convert_dates,\n\u001b[0;32m    210\u001b[0m                           \u001b[0mkeep_default_dates\u001b[0m\u001b[1;33m,\u001b[0m \u001b[0mnumpy\u001b[0m\u001b[1;33m,\u001b[0m \u001b[0mprecise_float\u001b[0m\u001b[1;33m,\u001b[0m\u001b[1;33m\u001b[0m\u001b[0m\n\u001b[1;32m--> 211\u001b[1;33m                           date_unit).parse()\n\u001b[0m\u001b[0;32m    212\u001b[0m \u001b[1;33m\u001b[0m\u001b[0m\n\u001b[0;32m    213\u001b[0m     \u001b[1;32mif\u001b[0m \u001b[0mtyp\u001b[0m \u001b[1;33m==\u001b[0m \u001b[1;34m'series'\u001b[0m \u001b[1;32mor\u001b[0m \u001b[0mobj\u001b[0m \u001b[1;32mis\u001b[0m \u001b[1;32mNone\u001b[0m\u001b[1;33m:\u001b[0m\u001b[1;33m\u001b[0m\u001b[0m\n",
      "\u001b[1;32m/home/roopireddy/anaconda3/lib/python3.5/site-packages/pandas/io/json.py\u001b[0m in \u001b[0;36mparse\u001b[1;34m(self)\u001b[0m\n\u001b[0;32m    277\u001b[0m \u001b[1;33m\u001b[0m\u001b[0m\n\u001b[0;32m    278\u001b[0m         \u001b[1;32melse\u001b[0m\u001b[1;33m:\u001b[0m\u001b[1;33m\u001b[0m\u001b[0m\n\u001b[1;32m--> 279\u001b[1;33m             \u001b[0mself\u001b[0m\u001b[1;33m.\u001b[0m\u001b[0m_parse_no_numpy\u001b[0m\u001b[1;33m(\u001b[0m\u001b[1;33m)\u001b[0m\u001b[1;33m\u001b[0m\u001b[0m\n\u001b[0m\u001b[0;32m    280\u001b[0m \u001b[1;33m\u001b[0m\u001b[0m\n\u001b[0;32m    281\u001b[0m         \u001b[1;32mif\u001b[0m \u001b[0mself\u001b[0m\u001b[1;33m.\u001b[0m\u001b[0mobj\u001b[0m \u001b[1;32mis\u001b[0m \u001b[1;32mNone\u001b[0m\u001b[1;33m:\u001b[0m\u001b[1;33m\u001b[0m\u001b[0m\n",
      "\u001b[1;32m/home/roopireddy/anaconda3/lib/python3.5/site-packages/pandas/io/json.py\u001b[0m in \u001b[0;36m_parse_no_numpy\u001b[1;34m(self)\u001b[0m\n\u001b[0;32m    494\u001b[0m         \u001b[1;32mif\u001b[0m \u001b[0morient\u001b[0m \u001b[1;33m==\u001b[0m \u001b[1;34m\"columns\"\u001b[0m\u001b[1;33m:\u001b[0m\u001b[1;33m\u001b[0m\u001b[0m\n\u001b[0;32m    495\u001b[0m             self.obj = DataFrame(\n\u001b[1;32m--> 496\u001b[1;33m                 loads(json, precise_float=self.precise_float), dtype=None)\n\u001b[0m\u001b[0;32m    497\u001b[0m         \u001b[1;32melif\u001b[0m \u001b[0morient\u001b[0m \u001b[1;33m==\u001b[0m \u001b[1;34m\"split\"\u001b[0m\u001b[1;33m:\u001b[0m\u001b[1;33m\u001b[0m\u001b[0m\n\u001b[0;32m    498\u001b[0m             decoded = dict((str(k), v)\n",
      "\u001b[1;31mValueError\u001b[0m: Expected object or value"
     ]
    }
   ],
   "source": [
    "user_df = pd.read_json('data/Phoenix_UserData.json')\n",
    "print(len(user_df))\n",
    "user_df.info()\n",
    "user_df.head(10)"
   ]
  },
  {
   "cell_type": "code",
   "execution_count": 4,
   "metadata": {
    "collapsed": false,
    "scrolled": true
   },
   "outputs": [
    {
     "ename": "ValueError",
     "evalue": "Expected object or value",
     "output_type": "error",
     "traceback": [
      "\u001b[1;31m---------------------------------------------------------------------------\u001b[0m",
      "\u001b[1;31mValueError\u001b[0m                                Traceback (most recent call last)",
      "\u001b[1;32m<ipython-input-4-095e4050ac0e>\u001b[0m in \u001b[0;36m<module>\u001b[1;34m()\u001b[0m\n\u001b[1;32m----> 1\u001b[1;33m \u001b[0mreview_df\u001b[0m \u001b[1;33m=\u001b[0m \u001b[0mpd\u001b[0m\u001b[1;33m.\u001b[0m\u001b[0mread_json\u001b[0m\u001b[1;33m(\u001b[0m\u001b[1;34m'data/Phoenix_ReviewData.json'\u001b[0m\u001b[1;33m)\u001b[0m\u001b[1;33m\u001b[0m\u001b[0m\n\u001b[0m\u001b[0;32m      2\u001b[0m \u001b[0mprint\u001b[0m\u001b[1;33m(\u001b[0m\u001b[0mlen\u001b[0m\u001b[1;33m(\u001b[0m\u001b[0mreview_df\u001b[0m\u001b[1;33m)\u001b[0m\u001b[1;33m)\u001b[0m\u001b[1;33m\u001b[0m\u001b[0m\n\u001b[0;32m      3\u001b[0m \u001b[0mreview_df\u001b[0m\u001b[1;33m.\u001b[0m\u001b[0minfo\u001b[0m\u001b[1;33m(\u001b[0m\u001b[1;33m)\u001b[0m\u001b[1;33m\u001b[0m\u001b[0m\n\u001b[0;32m      4\u001b[0m \u001b[0mreview_df\u001b[0m\u001b[1;33m.\u001b[0m\u001b[0mhead\u001b[0m\u001b[1;33m(\u001b[0m\u001b[1;36m5\u001b[0m\u001b[1;33m)\u001b[0m\u001b[1;33m\u001b[0m\u001b[0m\n",
      "\u001b[1;32m/home/roopireddy/anaconda3/lib/python3.5/site-packages/pandas/io/json.py\u001b[0m in \u001b[0;36mread_json\u001b[1;34m(path_or_buf, orient, typ, dtype, convert_axes, convert_dates, keep_default_dates, numpy, precise_float, date_unit)\u001b[0m\n\u001b[0;32m    209\u001b[0m         obj = FrameParser(json, orient, dtype, convert_axes, convert_dates,\n\u001b[0;32m    210\u001b[0m                           \u001b[0mkeep_default_dates\u001b[0m\u001b[1;33m,\u001b[0m \u001b[0mnumpy\u001b[0m\u001b[1;33m,\u001b[0m \u001b[0mprecise_float\u001b[0m\u001b[1;33m,\u001b[0m\u001b[1;33m\u001b[0m\u001b[0m\n\u001b[1;32m--> 211\u001b[1;33m                           date_unit).parse()\n\u001b[0m\u001b[0;32m    212\u001b[0m \u001b[1;33m\u001b[0m\u001b[0m\n\u001b[0;32m    213\u001b[0m     \u001b[1;32mif\u001b[0m \u001b[0mtyp\u001b[0m \u001b[1;33m==\u001b[0m \u001b[1;34m'series'\u001b[0m \u001b[1;32mor\u001b[0m \u001b[0mobj\u001b[0m \u001b[1;32mis\u001b[0m \u001b[1;32mNone\u001b[0m\u001b[1;33m:\u001b[0m\u001b[1;33m\u001b[0m\u001b[0m\n",
      "\u001b[1;32m/home/roopireddy/anaconda3/lib/python3.5/site-packages/pandas/io/json.py\u001b[0m in \u001b[0;36mparse\u001b[1;34m(self)\u001b[0m\n\u001b[0;32m    277\u001b[0m \u001b[1;33m\u001b[0m\u001b[0m\n\u001b[0;32m    278\u001b[0m         \u001b[1;32melse\u001b[0m\u001b[1;33m:\u001b[0m\u001b[1;33m\u001b[0m\u001b[0m\n\u001b[1;32m--> 279\u001b[1;33m             \u001b[0mself\u001b[0m\u001b[1;33m.\u001b[0m\u001b[0m_parse_no_numpy\u001b[0m\u001b[1;33m(\u001b[0m\u001b[1;33m)\u001b[0m\u001b[1;33m\u001b[0m\u001b[0m\n\u001b[0m\u001b[0;32m    280\u001b[0m \u001b[1;33m\u001b[0m\u001b[0m\n\u001b[0;32m    281\u001b[0m         \u001b[1;32mif\u001b[0m \u001b[0mself\u001b[0m\u001b[1;33m.\u001b[0m\u001b[0mobj\u001b[0m \u001b[1;32mis\u001b[0m \u001b[1;32mNone\u001b[0m\u001b[1;33m:\u001b[0m\u001b[1;33m\u001b[0m\u001b[0m\n",
      "\u001b[1;32m/home/roopireddy/anaconda3/lib/python3.5/site-packages/pandas/io/json.py\u001b[0m in \u001b[0;36m_parse_no_numpy\u001b[1;34m(self)\u001b[0m\n\u001b[0;32m    494\u001b[0m         \u001b[1;32mif\u001b[0m \u001b[0morient\u001b[0m \u001b[1;33m==\u001b[0m \u001b[1;34m\"columns\"\u001b[0m\u001b[1;33m:\u001b[0m\u001b[1;33m\u001b[0m\u001b[0m\n\u001b[0;32m    495\u001b[0m             self.obj = DataFrame(\n\u001b[1;32m--> 496\u001b[1;33m                 loads(json, precise_float=self.precise_float), dtype=None)\n\u001b[0m\u001b[0;32m    497\u001b[0m         \u001b[1;32melif\u001b[0m \u001b[0morient\u001b[0m \u001b[1;33m==\u001b[0m \u001b[1;34m\"split\"\u001b[0m\u001b[1;33m:\u001b[0m\u001b[1;33m\u001b[0m\u001b[0m\n\u001b[0;32m    498\u001b[0m             decoded = dict((str(k), v)\n",
      "\u001b[1;31mValueError\u001b[0m: Expected object or value"
     ]
    }
   ],
   "source": [
    "review_df = pd.read_json('data/Phoenix_ReviewData.json')\n",
    "print(len(review_df))\n",
    "review_df.info()\n",
    "review_df.head(5)"
   ]
  },
  {
   "cell_type": "code",
   "execution_count": 15,
   "metadata": {
    "collapsed": false
   },
   "outputs": [
    {
     "name": "stdout",
     "output_type": "stream",
     "text": [
      "54085\n",
      "<class 'pandas.core.frame.DataFrame'>\n",
      "Float64Index: 54085 entries, 0.0 to 9999.0\n",
      "Data columns (total 5 columns):\n",
      "business_id    54085 non-null object\n",
      "date           54085 non-null datetime64[ns]\n",
      "likes          54085 non-null int64\n",
      "text           54085 non-null object\n",
      "user_id        54085 non-null object\n",
      "dtypes: datetime64[ns](1), int64(1), object(3)\n",
      "memory usage: 2.5+ MB\n"
     ]
    },
    {
     "data": {
      "text/plain": [
       "business_id    9-cRrGH5WmZKQ_O6LtfSbw\n",
       "date              2014-09-07 00:00:00\n",
       "likes                               3\n",
       "text             Pumpkin beer is here\n",
       "user_id        4DsUW5yuIkUcZ9Eu7p7EuA\n",
       "Name: 34900.0, dtype: object"
      ]
     },
     "execution_count": 15,
     "metadata": {},
     "output_type": "execute_result"
    }
   ],
   "source": [
    "tip_df = pd.read_json('data/Phoenix_TipData.json')\n",
    "print(len(tip_df))\n",
    "tip_df.info()\n",
    "tip_df.loc[tip_df['likes'].idxmax()]"
   ]
  },
  {
   "cell_type": "code",
   "execution_count": null,
   "metadata": {
    "collapsed": true
   },
   "outputs": [],
   "source": [
    "#extract feature#1 (latitude of restaurant)\n",
    "\n",
    "def extract_feature1(city_rb_df):\n",
    "    latitude = city_rb_df['latitude']\n",
    "    return latitude\n"
   ]
  },
  {
   "cell_type": "code",
   "execution_count": null,
   "metadata": {
    "collapsed": true
   },
   "outputs": [],
   "source": [
    "#extract feature#2 (longitude of restaurant)\n",
    "\n",
    "def extract_feature2(city_rb_df):\n",
    "    latitude = city_rb_df['longitude']\n",
    "    return longitude"
   ]
  },
  {
   "cell_type": "code",
   "execution_count": null,
   "metadata": {
    "collapsed": true
   },
   "outputs": [],
   "source": [
    "#extract feature#3 (zipcode of restaurant)\n",
    "\n",
    "def extract_feature3(city_rb_df):\n",
    "    zipcodes= []\n",
    "    address = city_rb_df['full_address']\n",
    "    \n",
    "    for entry in address:\n",
    "        \n",
    "    "
   ]
  },
  {
   "cell_type": "code",
   "execution_count": null,
   "metadata": {
    "collapsed": true
   },
   "outputs": [],
   "source": [
    "import urllib2\n",
    "\n",
    "url = 'http://www.acme.com/products/3322'\n",
    "response = urllib2.urlopen(url).read()"
   ]
  }
 ],
 "metadata": {
  "kernelspec": {
   "display_name": "Python 3",
   "language": "python",
   "name": "python3"
  },
  "language_info": {
   "codemirror_mode": {
    "name": "ipython",
    "version": 3
   },
   "file_extension": ".py",
   "mimetype": "text/x-python",
   "name": "python",
   "nbconvert_exporter": "python",
   "pygments_lexer": "ipython3",
   "version": "3.5.1"
  }
 },
 "nbformat": 4,
 "nbformat_minor": 0
}
